{
 "cells": [
  {
   "cell_type": "code",
   "execution_count": 1,
   "metadata": {},
   "outputs": [],
   "source": [
    "import sqlite3\n",
    "con = sqlite3.connect('./test_db')"
   ]
  },
  {
   "cell_type": "code",
   "execution_count": 2,
   "metadata": {},
   "outputs": [
    {
     "name": "stdout",
     "output_type": "stream",
     "text": [
      "(1, 'name_a', 10.5)\n",
      "1\n",
      "1\n",
      "name_a\n",
      "10.5\n",
      "name_a\n",
      "1\n",
      "name_a\n",
      "10.5\n",
      "10.5\n",
      "1\n",
      "name_a\n",
      "10.5\n",
      "(3, 'c_update', 3.14)\n",
      "3\n",
      "3\n",
      "c_update\n",
      "3.14\n",
      "c_update\n",
      "3\n",
      "c_update\n",
      "3.14\n",
      "3.14\n",
      "3\n",
      "c_update\n",
      "3.14\n",
      "(4, 'name_d', 2.0)\n",
      "4\n",
      "4\n",
      "name_d\n",
      "2.0\n",
      "name_d\n",
      "4\n",
      "name_d\n",
      "2.0\n",
      "2.0\n",
      "4\n",
      "name_d\n",
      "2.0\n"
     ]
    }
   ],
   "source": [
    "cur = con.cursor()\n",
    "for row in cur.execute('SELECT * FROM person'):\n",
    "    print(row)\n",
    "    for column in row:\n",
    "        print(column)\n",
    "        for column in row:\n",
    "            print(column)"
   ]
  },
  {
   "cell_type": "code",
   "execution_count": 4,
   "metadata": {},
   "outputs": [
    {
     "data": {
      "text/plain": [
       "<sqlite3.Cursor at 0x7efe5c483490>"
      ]
     },
     "execution_count": 4,
     "metadata": {},
     "output_type": "execute_result"
    }
   ],
   "source": [
    "insert_sql = 'INSERT INTO person VALUES(?,?,?)'\n",
    "insert_param = (100,'name_z',99.9)\n",
    "cur.execute(insert_sql,insert_param)"
   ]
  },
  {
   "cell_type": "code",
   "execution_count": 14,
   "metadata": {},
   "outputs": [
    {
     "name": "stdout",
     "output_type": "stream",
     "text": [
      "[(1, 'name_a', 10.5), (100, 'name_z', 99.9)]\n"
     ]
    }
   ],
   "source": [
    "cur.execute('SELECT * FROM person WHERE size > ?', (10,))\n",
    "print(cur.fetchall())"
   ]
  },
  {
   "cell_type": "code",
   "execution_count": 15,
   "metadata": {},
   "outputs": [
    {
     "ename": "ProgrammingError",
     "evalue": "Cannot operate on a closed database.",
     "output_type": "error",
     "traceback": [
      "\u001b[0;31m---------------------------------------------------------------------------\u001b[0m",
      "\u001b[0;31mProgrammingError\u001b[0m                          Traceback (most recent call last)",
      "\u001b[1;32m/home/cre/WebApp/control_db.ipynb Cell 5'\u001b[0m in \u001b[0;36m<cell line: 2>\u001b[0;34m()\u001b[0m\n\u001b[1;32m      <a href='vscode-notebook-cell://wsl%2Bubuntu-20.04/home/cre/WebApp/control_db.ipynb#ch0000004vscode-remote?line=0'>1</a>\u001b[0m con\u001b[39m.\u001b[39mclose()\n\u001b[0;32m----> <a href='vscode-notebook-cell://wsl%2Bubuntu-20.04/home/cre/WebApp/control_db.ipynb#ch0000004vscode-remote?line=1'>2</a>\u001b[0m cur\u001b[39m.\u001b[39;49mexecute(\u001b[39m'\u001b[39;49m\u001b[39mSELECT * FROM person WHERE size > ?\u001b[39;49m\u001b[39m'\u001b[39;49m, (\u001b[39m10\u001b[39;49m,))\n",
      "\u001b[0;31mProgrammingError\u001b[0m: Cannot operate on a closed database."
     ]
    }
   ],
   "source": [
    "con.close()\n",
    "cur.execute('SELECT * FROM person WHERE size > ?', (10,))"
   ]
  }
 ],
 "metadata": {
  "interpreter": {
   "hash": "6bfaca28b11ff4a03acec1e6cb8d2da0d5be7ba4fc73aaa3da6b5dd9d3c7b7dd"
  },
  "kernelspec": {
   "display_name": "Python 3.8.10 ('venv': venv)",
   "language": "python",
   "name": "python3"
  },
  "language_info": {
   "codemirror_mode": {
    "name": "ipython",
    "version": 3
   },
   "file_extension": ".py",
   "mimetype": "text/x-python",
   "name": "python",
   "nbconvert_exporter": "python",
   "pygments_lexer": "ipython3",
   "version": "3.8.10"
  },
  "orig_nbformat": 4
 },
 "nbformat": 4,
 "nbformat_minor": 2
}
